{
 "cells": [
  {
   "cell_type": "markdown",
   "metadata": {},
   "source": [
    "# Python and NumPy Tutorial for CS224D\n",
    "#### Thiago Akio Nakamura\n",
    "\n",
    "This is a short Python Tutorial, convering its main types and commands. Furthermore, some basic functionalities of the libraries `NumPy`, `SciPy` and `Matplotlib` are also covered. This is practically a reproduction of [this Python tutorial](http://cs231n.github.io/python-numpy-tutorial/)."
   ]
  },
  {
   "cell_type": "markdown",
   "metadata": {},
   "source": [
    "## Python"
   ]
  },
  {
   "cell_type": "markdown",
   "metadata": {},
   "source": [
    "Python is a widely used general-purpose, high-level programming language. Its design philosophy emphasizes code readability, and its syntax allows programmers to express concepts in fewer lines of code than would be possible in languages such as C++ or Java. The language provides constructs intended to enable clear programs on both a small and large scale.\n",
    "\n",
    "Let's start with a classic `quicksort` algorithm as an initial example, simply to demonstrate how the Python syntax works. Note the identation is used for changing the \"block\" of the code."
   ]
  },
  {
   "cell_type": "code",
   "execution_count": 1,
   "metadata": {
    "collapsed": false
   },
   "outputs": [
    {
     "name": "stdout",
     "output_type": "stream",
     "text": [
      "[-2, -2, 0, 2, 3, 3, 4, 4, 6, 8, 10, 11]\n"
     ]
    }
   ],
   "source": [
    "# Define a function called quicksort.\n",
    "def quicksort(arr):\n",
    "    # Indentation change initialize the function block.\n",
    "    if len(arr) <= 1:\n",
    "        # Another indentation increase initialises the if statement block.\n",
    "        return arr\n",
    "    # Decrease in identation finishes a block and return to the previous.\n",
    "    pivot = arr[len(arr) / 2]\n",
    "    left = [x for x in arr if x < pivot]\n",
    "    middle = [x for x in arr if x == pivot]\n",
    "    right = [x for x in arr if x > pivot]\n",
    "    return quicksort(left) + middle + quicksort(right)\n",
    "\n",
    "# Put any numer you want in the array you want to sort.\n",
    "print quicksort([3, 4, 6, 11, -2, 3, 0, 2, 4, 10, 8, -2])"
   ]
  },
  {
   "cell_type": "markdown",
   "metadata": {},
   "source": [
    "### Basic data types:\n",
    "Let's begin with pythons basic types. The four main basic types are `integers`, `floats`, `booleans` and `strings`.\n",
    "* Numbers:"
   ]
  },
  {
   "cell_type": "code",
   "execution_count": 4,
   "metadata": {
    "collapsed": false
   },
   "outputs": [
    {
     "name": "stdout",
     "output_type": "stream",
     "text": [
      "<type 'int'>\n",
      "3\n",
      "4\n",
      "2\n",
      "6\n",
      "9\n",
      "4\n",
      "8\n",
      "<type 'float'>\n",
      "2.5 3.5 5.0 6.25\n"
     ]
    }
   ],
   "source": [
    "x = 3          # Creates an integer\n",
    "print type(x)  # Prints \"<type 'int'>\"\n",
    "print x        # Prints \"3\"\n",
    "print x + 1    # Addition; prints\"4\"\n",
    "print x - 1    # Subtraction; prints\"2\"\n",
    "print x * 2    # Multiplication; prints\"6\"\n",
    "print x ** 2   # Exponentiation; prints\"9\"\n",
    "x += 1         # Increment 'x' in 1.\n",
    "print x        # Prints \"4\"\n",
    "x *= 2         # Multiply x by 2 and assign back to itself.\n",
    "print x        # Prints \"8\"\n",
    "y = 2.5        # Creates a float.\n",
    "print type(y)  # Prints \"<type 'float'>\"\n",
    "print y, y + 1, y * 2, y ** 2 # Prints \"2.5 3.5 5.0 6.25\""
   ]
  },
  {
   "cell_type": "markdown",
   "metadata": {},
   "source": [
    "* Booleans:"
   ]
  },
  {
   "cell_type": "code",
   "execution_count": 5,
   "metadata": {
    "collapsed": false
   },
   "outputs": [
    {
     "name": "stdout",
     "output_type": "stream",
     "text": [
      "<type 'bool'>\n",
      "False\n",
      "True\n",
      "False\n",
      "True\n"
     ]
    }
   ],
   "source": [
    "t = True      # Creates a boolean variable with 'True' value\n",
    "f = False     # Creates a boolean variable with 'False' value\n",
    "print type(t) # Prints \"<type 'bool'>\" \n",
    "print t and f # Logical AND; prints \"False\" \n",
    "print t or f  # LogicalOR; prints \"True\" \n",
    "print not t   # LogicalNOT; prints \"False\" \n",
    "print t != f  # LogicalXOR; prints \"True\""
   ]
  },
  {
   "cell_type": "markdown",
   "metadata": {},
   "source": [
    "* Strings:"
   ]
  },
  {
   "cell_type": "code",
   "execution_count": 8,
   "metadata": {
    "collapsed": false,
    "scrolled": true
   },
   "outputs": [
    {
     "name": "stdout",
     "output_type": "stream",
     "text": [
      "hello\n",
      "5\n",
      "hello world\n",
      "hello world 12\n",
      "Hello\n",
      "HELLO\n",
      "  hello\n",
      " hello \n",
      "he(ell)(ell)o\n",
      "world\n"
     ]
    }
   ],
   "source": [
    "hello = 'hello'  # String literals can use single quotes \n",
    "world = \"world\"  # or double quotes; it does not matter.\n",
    "print hello      # Prints \"hello\"\n",
    "print len(hello) # String length; prints \"5\" \n",
    "hw = hello + ' ' + world # String concatenation\n",
    "print hw         # prints \"hello world\"\n",
    "hw12 = '%s %s %d' % (hello, world, 12) # sprintf style string format \n",
    "print hw12       # prints \"hello world 12\"\n",
    "  \n",
    "s = \"hello\"\n",
    "print s.capitalize() # Capitalize a string; prints \"Hello\"\n",
    "print s.upper()      # Convert a string to uppercase; prints \"HELLO\"\n",
    "print s.rjust(7)     # Right-justify a string, padding with spaces on the left;\n",
    "print s.center(7)    # Center a string, padding with spaces;\n",
    "print s.replace('l', '(ell)') # Replaces the all occurrences of 'l' by '(ell)' in the 's' string.\n",
    "print '  world  '.strip() # Remove all leading and trailing space of a string."
   ]
  },
  {
   "cell_type": "markdown",
   "metadata": {},
   "source": [
    "### Containers\n",
    "Python includes several container types as lists, dictionaries, sets and tuples."
   ]
  },
  {
   "cell_type": "markdown",
   "metadata": {},
   "source": [
    "#### Lists\n",
    "It is equivalent to an array, but is resizable and can contain elements of different types."
   ]
  },
  {
   "cell_type": "code",
   "execution_count": 9,
   "metadata": {
    "collapsed": false
   },
   "outputs": [
    {
     "name": "stdout",
     "output_type": "stream",
     "text": [
      "[3, 1, 2] 2\n",
      "2\n",
      "[3, 1, 'foo']\n",
      "[3, 1, 'foo', 'bar']\n",
      "bar [3, 1, 'foo']\n"
     ]
    }
   ],
   "source": [
    "xs = [3, 1, 2]   # Create a list\n",
    "print xs, xs[2]  # Prints \"[3, 1, 2] 2\"\n",
    "print xs[-1]     # Negative indices count from the end of the list;\n",
    "xs[2] = 'foo'    # Lists can contain elements of different types\n",
    "print xs         # Prints \"[3, 1, 'foo']\"\n",
    "xs.append('bar') # Add a new element to the end of the list\n",
    "print xs\n",
    "x = xs.pop()     # Remove and return the lat element of the list\n",
    "print x, xs"
   ]
  },
  {
   "cell_type": "markdown",
   "metadata": {},
   "source": [
    "* Slicing: Python provides concise syntax to accesse sublists."
   ]
  },
  {
   "cell_type": "code",
   "execution_count": 16,
   "metadata": {
    "collapsed": false
   },
   "outputs": [
    {
     "name": "stdout",
     "output_type": "stream",
     "text": [
      "[0, 1, 2, 3, 4]\n",
      "[2, 3]\n",
      "[2, 3, 4]\n",
      "[0, 1]\n",
      "[0, 1, 2, 3, 4]\n",
      "[0, 1, 2, 3]\n",
      "[0, 1, 8, 9, 4]\n"
     ]
    }
   ],
   "source": [
    "nums = range(5) # range is a built-in function that creates a list\n",
    "print nums      # Prints \"[0, 1, 2, 3, 4]\"\n",
    "print nums[2:4] # Get a slice from index 2 to 4 (exclusive);\n",
    "print nums[2:]  # Get a slice from index 2 to the end;\n",
    "print nums[:2]  # Get a slice from the start to index 2 (exclusive)\n",
    "print nums[:]   # Get a slice of the whole list;\n",
    "print nums[:-1] # Slice indices can be negative;\n",
    "nums[2:4] = [8, 9] # Assign a new sublist to a slice\n",
    "print nums         # Prints \"[0, 1, 8, 8, 4]"
   ]
  },
  {
   "cell_type": "markdown",
   "metadata": {},
   "source": [
    "* Loops: You can also easily loop through elements of the list."
   ]
  },
  {
   "cell_type": "code",
   "execution_count": 10,
   "metadata": {
    "collapsed": false
   },
   "outputs": [
    {
     "name": "stdout",
     "output_type": "stream",
     "text": [
      "cat\n",
      "dog\n",
      "monkey\n"
     ]
    }
   ],
   "source": [
    "# Creates a list.\n",
    "animals = ['cat', 'dog', 'monkey']\n",
    "# For every element in the list.\n",
    "for animal in animals:\n",
    "    print animal\n",
    "# Prints \"cat\", \"dog\", \"monkey\", each on its own line."
   ]
  },
  {
   "cell_type": "code",
   "execution_count": 11,
   "metadata": {
    "collapsed": false
   },
   "outputs": [
    {
     "name": "stdout",
     "output_type": "stream",
     "text": [
      "#1: cat\n",
      "#2: dog\n",
      "#3: monkey\n"
     ]
    }
   ],
   "source": [
    "# Creates a list.\n",
    "animals = ['cat', 'dog', 'monkey']\n",
    "# The `enumerate` function gives you access to the index of the elements\n",
    "# as you loop through the list.\n",
    "for idx, animal in enumerate(animals):\n",
    "    print '#%d: %s' % (idx + 1, animal)\n",
    "# Prints \"#1: cat\", \"#2: dog\", \"#3: monkey\", each on its own line"
   ]
  },
  {
   "cell_type": "markdown",
   "metadata": {},
   "source": [
    "* List comprehension: Allows for easily transform the data in the list into another."
   ]
  },
  {
   "cell_type": "code",
   "execution_count": 12,
   "metadata": {
    "collapsed": false
   },
   "outputs": [
    {
     "name": "stdout",
     "output_type": "stream",
     "text": [
      "[0, 1, 4, 9, 16]\n"
     ]
    }
   ],
   "source": [
    "# Let's start doing it in the long way.\n",
    "# Creates a list.\n",
    "nums = [0, 1, 2, 3, 4]\n",
    "# Iniatilizes a list where the transformation result will be stored.\n",
    "squares = []\n",
    "# Loop through the list.\n",
    "for x in nums:\n",
    "    # Append to the result list the transformation.\n",
    "    squares.append(x ** 2)\n",
    "print squares # Prints [0, 1, 4, 9, 16]"
   ]
  },
  {
   "cell_type": "markdown",
   "metadata": {},
   "source": [
    "The code above can be replaced by using a `list comprehension`:"
   ]
  },
  {
   "cell_type": "code",
   "execution_count": 13,
   "metadata": {
    "collapsed": false
   },
   "outputs": [
    {
     "name": "stdout",
     "output_type": "stream",
     "text": [
      "[0, 1, 4, 9, 16]\n"
     ]
    }
   ],
   "source": [
    "# Creates a list.\n",
    "nums = [0, 1, 2, 3, 4]\n",
    "# Transforms the element in the list and put the result into another list.\n",
    "squares = [x ** 2 for x in nums]\n",
    "print squares # Prints [0, 1, 4, 9, 16]"
   ]
  },
  {
   "cell_type": "markdown",
   "metadata": {},
   "source": [
    "Comprehension can also have conditionals:"
   ]
  },
  {
   "cell_type": "code",
   "execution_count": 14,
   "metadata": {
    "collapsed": false
   },
   "outputs": [
    {
     "name": "stdout",
     "output_type": "stream",
     "text": [
      "[0, 4, 16]\n"
     ]
    }
   ],
   "source": [
    "nums = [0, 1, 2, 3, 4]\n",
    "even_squares = [x ** 2 for x in nums if x % 2 == 0]\n",
    "print even_squares # Prints \"[0, 4, 16]\""
   ]
  },
  {
   "cell_type": "markdown",
   "metadata": {},
   "source": [
    "#### Dictionaries\n",
    "A dictionary stores (key, value) pairs."
   ]
  },
  {
   "cell_type": "code",
   "execution_count": 15,
   "metadata": {
    "collapsed": false
   },
   "outputs": [
    {
     "name": "stdout",
     "output_type": "stream",
     "text": [
      "cute\n",
      "True\n",
      "wet\n",
      "N/A\n",
      "wet\n",
      "N/A\n"
     ]
    }
   ],
   "source": [
    "d = {'cat': 'cute', 'dog': 'furry'} # Creates a new dictionary\n",
    "print d['cat']                      # Get an entry from a dictionary; prints \"cute\"\n",
    "print 'cat' in d                    # Check if a dictionary has a given key; prints True\n",
    "d['fish'] = 'wet'                   # Set an entry in a dictionary\n",
    "print d['fish']                     # Prints \"wet\"\n",
    "# print d['monkey']                 # KeyError: 'monkey' not a key of dictionary\n",
    "print d.get('monkey', 'N/A')        # Get an element with a default\n",
    "print d.get('fish', 'N/A')          # Get an element with a default\n",
    "del d['fish']                       # Remove an element from the dictionary\n",
    "print d.get('fish', 'N/A')          # \"fish\" is no longer a key"
   ]
  },
  {
   "cell_type": "markdown",
   "metadata": {},
   "source": [
    "* Loops: You can easily iterate over the keys in the dictionary."
   ]
  },
  {
   "cell_type": "code",
   "execution_count": 16,
   "metadata": {
    "collapsed": false
   },
   "outputs": [
    {
     "name": "stdout",
     "output_type": "stream",
     "text": [
      "A person has 2 legs\n",
      "A spider has 8 legs\n",
      "A cat has 4 legs\n"
     ]
    }
   ],
   "source": [
    "# Creates a dictionary.\n",
    "d = {'person': 2, 'cat': 4, 'spider': 8}\n",
    "# Loop over the keys\n",
    "for animal in d:\n",
    "    legs = d[animal]\n",
    "    print 'A %s has %d legs' % (animal, legs)\n",
    "# Prints \"A person has 2 legs\", \"A spider has 8 legs\", \"A cat has 4 legs\" on each line"
   ]
  },
  {
   "cell_type": "code",
   "execution_count": 17,
   "metadata": {
    "collapsed": false
   },
   "outputs": [
    {
     "name": "stdout",
     "output_type": "stream",
     "text": [
      "A person has 2 legs\n",
      "A spider has 8 legs\n",
      "A cat has 4 legs\n"
     ]
    }
   ],
   "source": [
    "# Creates a dictionary.\n",
    "d = {'person': 2, 'cat': 4, 'spider': 8} \n",
    "# The iteritems function gives you access to both keys and values for iterating over.\n",
    "for animal, legs in d.iteritems():\n",
    "    print 'A %s has %d legs' % (animal, legs)\n",
    "# Prints \"A person has 2 legs\", \"A spider has 8 legs\", \"A cat has 4 legs\"."
   ]
  },
  {
   "cell_type": "markdown",
   "metadata": {},
   "source": [
    "* Dictionary comprehensions: Similiar to the list comprehension, but for creating dictonaries."
   ]
  },
  {
   "cell_type": "code",
   "execution_count": 18,
   "metadata": {
    "collapsed": false
   },
   "outputs": [
    {
     "name": "stdout",
     "output_type": "stream",
     "text": [
      "{0: 0, 2: 4, 4: 16}\n"
     ]
    }
   ],
   "source": [
    "nums = [0, 1, 2, 3, 4]\n",
    "even_num_to_square = {x: x ** 2 for x in nums if x % 2 == 0}\n",
    "print even_num_to_square # Prints\" {0: 0, 2: 4, 4: 16}\""
   ]
  },
  {
   "cell_type": "markdown",
   "metadata": {},
   "source": [
    "#### Sets\n",
    "A set is an unordered collection of distinct elements."
   ]
  },
  {
   "cell_type": "code",
   "execution_count": 19,
   "metadata": {
    "collapsed": false
   },
   "outputs": [
    {
     "name": "stdout",
     "output_type": "stream",
     "text": [
      "True\n",
      "False\n",
      "True\n",
      "3\n",
      "3\n",
      "2\n"
     ]
    }
   ],
   "source": [
    "animals = {'cat', 'dog'} # Creates a set.\n",
    "print'cat'in animals  # Check if a nelement is in a set; prints \"True\"\n",
    "print'fish'in animals # Prints False\n",
    "animals.add('fish')   # Adds element to a set\n",
    "print'fish'in animals # Prints True\n",
    "print len(animals)    # Number of elements in a set\n",
    "animals.add('cat')    # Add an element that is already in the set\n",
    "print len(animals)    # Prints 3 again\n",
    "animals.remove('cat') # Remove an element from the set\n",
    "print len(animals)"
   ]
  },
  {
   "cell_type": "markdown",
   "metadata": {},
   "source": [
    "* Loops: Set are unordered, so we can't make assumptions about the order in which we visit the elements in the set."
   ]
  },
  {
   "cell_type": "code",
   "execution_count": 20,
   "metadata": {
    "collapsed": false
   },
   "outputs": [
    {
     "name": "stdout",
     "output_type": "stream",
     "text": [
      "#1: fish\n",
      "#2: dog\n",
      "#3: cat\n"
     ]
    }
   ],
   "source": [
    "# Creates a set.\n",
    "animals = {'cat', 'dog', 'fish'}\n",
    "# Loop over the elements of the set.\n",
    "for idx, animal in enumerate(animals):\n",
    "    print '#%d: %s' % (idx + 1, animal)\n",
    "# Prints \"#1: fish\", \"#2: dog\", \"#3: cat\""
   ]
  },
  {
   "cell_type": "markdown",
   "metadata": {},
   "source": [
    "* Set comprehension: Like lists and dictionaries, we can easily construct sets using set"
   ]
  },
  {
   "cell_type": "code",
   "execution_count": 21,
   "metadata": {
    "collapsed": false
   },
   "outputs": [
    {
     "name": "stdout",
     "output_type": "stream",
     "text": [
      "set([0, 1, 2, 3, 4, 5])\n"
     ]
    }
   ],
   "source": [
    "# Import the `sqrt` function from the `math` library\n",
    "from math import sqrt\n",
    "# Creates a set with set comprehension.\n",
    "nums = {int(sqrt(x)) for x in range(30)} \n",
    "print nums # Prints \"set([0, 1, 2, 3, 4, 5])\""
   ]
  },
  {
   "cell_type": "markdown",
   "metadata": {},
   "source": [
    "#### Tuples\n",
    "A tuple is an immutable ordered list of values. A tuple is in many ways similar to a list; one of the most important differences is that tuples can be used as keys in dictionaries and as elements of sets, while lists cannot."
   ]
  },
  {
   "cell_type": "code",
   "execution_count": 43,
   "metadata": {
    "collapsed": false
   },
   "outputs": [
    {
     "name": "stdout",
     "output_type": "stream",
     "text": [
      "<type 'tuple'>\n",
      "5\n",
      "1\n"
     ]
    }
   ],
   "source": [
    "d = {(x, x + 1): x for x in range(10)} # Create a dictionary\n",
    "t = (5, 6)      # Create a tuple\n",
    "print type(t)   # Prints <type 'tuple'>\n",
    "print d[t]      # Prints 5\n",
    "print d[(1, 2)] # Prints 1"
   ]
  },
  {
   "cell_type": "markdown",
   "metadata": {},
   "source": [
    "### Functions\n",
    "Python functions are defined using the `def` keyword:"
   ]
  },
  {
   "cell_type": "code",
   "execution_count": 23,
   "metadata": {
    "collapsed": false
   },
   "outputs": [
    {
     "name": "stdout",
     "output_type": "stream",
     "text": [
      "negative\n",
      "zero\n",
      "positive\n"
     ]
    }
   ],
   "source": [
    "# Creates a function called `sign`.\n",
    "def sign(x):\n",
    "    r\"\"\"Returns the sign of the given number.\n",
    "    \n",
    "    Given the number `x`, returns 'positive' if `x` > 0,\n",
    "    returns 'negative' if `x` < 0 or returns 'zero' if `x` == 0.\n",
    "    \n",
    "    Parameters\n",
    "    ----------\n",
    "    x : numeric\n",
    "        The number which the sign should be analysed.\n",
    "        \n",
    "    Returns\n",
    "    sign : string\n",
    "        String containing the result of the sign analyses: 'positive', 'negative' or 'zero'.\n",
    "    \"\"\"\n",
    "    if x > 0:\n",
    "        return 'positive'\n",
    "    elif x < 0:\n",
    "        return 'negative'\n",
    "    else:\n",
    "        return 'zero'\n",
    "\n",
    "for x in [-1, 0, 1]:\n",
    "    # Calls the created function.\n",
    "    print sign(x)\n",
    "# Prints \"negative, \"zero\" and \"positive\""
   ]
  },
  {
   "cell_type": "markdown",
   "metadata": {},
   "source": [
    "Function can be defines to take optional keyword arguments:"
   ]
  },
  {
   "cell_type": "code",
   "execution_count": 24,
   "metadata": {
    "collapsed": false
   },
   "outputs": [
    {
     "name": "stdout",
     "output_type": "stream",
     "text": [
      "Hello, Bob\n",
      "HELLO, FRED!\n"
     ]
    }
   ],
   "source": [
    "# Define a funciton with the second argument as optional\n",
    "def hello(name, loud=False):\n",
    "    if loud:\n",
    "        print 'HELLO, %s!' % name.upper()\n",
    "    else:\n",
    "        print 'Hello, %s' % name\n",
    "\n",
    "hello('Bob')\n",
    "hello('Fred', loud=True)            "
   ]
  },
  {
   "cell_type": "markdown",
   "metadata": {},
   "source": [
    "### Classes\n",
    "The syntax is very straightforward:"
   ]
  },
  {
   "cell_type": "code",
   "execution_count": 25,
   "metadata": {
    "collapsed": false
   },
   "outputs": [
    {
     "name": "stdout",
     "output_type": "stream",
     "text": [
      "Hello, Fred\n",
      "HELLO, FRED!\n"
     ]
    }
   ],
   "source": [
    "# Define a class called `Greeter`\n",
    "class Greeter:\n",
    "    \n",
    "    # Constructor\n",
    "    def __init__(self, name):\n",
    "        self.name = name # Create an instance variable\n",
    "        \n",
    "    # Instance method\n",
    "    def greet(self, loud=False):\n",
    "        r\"\"\"Print the greeting for name in the class.\n",
    "\n",
    "        Prints out the greeting the this instance class name,\n",
    "        optionally being a loud greeting.\n",
    "\n",
    "        Parameters\n",
    "        ----------\n",
    "        loud : boolean, optional\n",
    "            Whether the greeting should be loud.\n",
    "        \"\"\"\n",
    "        if loud:\n",
    "            print 'HELLO, %s!' % self.name.upper() \n",
    "        else:\n",
    "            print 'Hello, %s' % self.name\n",
    "            \n",
    "g = Greeter('Fred') # Construct an instance of the Greeter class\n",
    "g.greet()           # Call an instance method; prints \"Hello, Fred\" \n",
    "g.greet(loud=True)  # Callaninstancemethod; prints\"HELLO,FRED"
   ]
  },
  {
   "cell_type": "markdown",
   "metadata": {},
   "source": [
    "## NumPy\n",
    "NumPy is the core library for scientific computing in Python. It provides a high performance multidimensional array object, and tools for working with these arrays.\n",
    "\n",
    "### Arrays\n",
    "A NumPy array is a grid of values, all of the same type, and it is indexed by a tuple of non-negative integers. The number of dimensions is the `rank` of the array, the `shape` of an array is a tuple of integers giving the size of the array along each dimension."
   ]
  },
  {
   "cell_type": "code",
   "execution_count": 26,
   "metadata": {
    "collapsed": false
   },
   "outputs": [
    {
     "name": "stdout",
     "output_type": "stream",
     "text": [
      "<type 'numpy.ndarray'>\n",
      "(3,)\n",
      "1 2 3\n",
      "[5 2 3]\n",
      "(2, 3)\n",
      "1 2 4\n"
     ]
    }
   ],
   "source": [
    "# Import the library `numpy` as an alias of `np` for shorter.\n",
    "import numpy as np\n",
    "\n",
    "a = np.array([1,2,3])  # Create a rank 1 array\n",
    "print type(a)          # Prints \"<type 'numpy.ndarray'>\"\n",
    "print a.shape          # Prints \"(3,)\"\n",
    "print a[0], a[1], a[2] # Prints \"1 2 3\"\n",
    "a[0] = 5               # Change an element of the array \n",
    "print a                # Prints \"[5, 2, 3]\"\n",
    "   \n",
    "b = np.array([[1, 2, 3], [4, 5, 6]]) # Create a rank 2 array\n",
    "print b.shape                        # Prints the shape of the array \"(2, 3)\"\n",
    "print b[0, 0], b[0, 1], b[1, 0]      # Prints \"1 2 4\""
   ]
  },
  {
   "cell_type": "markdown",
   "metadata": {},
   "source": [
    "We can create arrays in several ways:"
   ]
  },
  {
   "cell_type": "code",
   "execution_count": 27,
   "metadata": {
    "collapsed": false
   },
   "outputs": [
    {
     "name": "stdout",
     "output_type": "stream",
     "text": [
      "[[ 0.  0.]\n",
      " [ 0.  0.]]\n",
      "[[ 1.  1.]]\n",
      "[[ 7.  7.]\n",
      " [ 7.  7.]]\n",
      "[[ 1.  0.]\n",
      " [ 0.  1.]]\n",
      "[[ 0.02744397  0.84258313]\n",
      " [ 0.95471552  0.72380214]]\n"
     ]
    }
   ],
   "source": [
    "a = np.zeros((2, 2))  # Create an array of all zeros\n",
    "print a               # Prints \"[[ 0. 0.]\n",
    "                      #          [ 0. 0.]]\"\n",
    "b = np.ones((1, 2))   # Create an array of all ones\n",
    "print b               # Prints \"[[ 1. 1.]]\"\n",
    "\n",
    "c = np.full((2, 2), 7) # Create a constant array\n",
    "print c                # Prints \"[[7. 7.] \n",
    "                       #          [7. 7.]]\"\n",
    "d = np.eye(2)          # Create a 2x2 identity matrix\n",
    "print d                # Prints \"[[1. 0.]\n",
    "                       #          [ 0. 1.]]\"\n",
    "\n",
    "e = np.random.random((2, 2)) # Create an array filled with random values\n",
    "print e "
   ]
  },
  {
   "cell_type": "markdown",
   "metadata": {
    "collapsed": true
   },
   "source": [
    "### Array indexing\n",
    "NumPy provides several ways to index arrays:\n",
    "* Slicing: similiar to Python lists. Since arrays may be multidimensionals, yoou must specify a slice for each dimension of the array."
   ]
  },
  {
   "cell_type": "code",
   "execution_count": 31,
   "metadata": {
    "collapsed": false
   },
   "outputs": [
    {
     "name": "stdout",
     "output_type": "stream",
     "text": [
      "[[2 3]\n",
      " [6 7]]\n",
      "\n",
      "2\n",
      "77\n"
     ]
    }
   ],
   "source": [
    "import numpy as np\n",
    "\n",
    "# Create the following rank 2 array with shape (3, 4)\n",
    "# [[1  2  3  4]\n",
    "#  [4  5  6  8]\n",
    "#  [9 10 11 12]]\n",
    "a = np.array([[1, 2, 3, 4], [5, 6, 7, 8], [9, 10, 11, 12]])\n",
    "\n",
    "# Use slicing to pull out the subarray conssiting of the first 2 rows and columns 1 and 2.\n",
    "# b is the following array of shape (2, 2):\n",
    "# [[2 3]\n",
    "#  [6 7]]\n",
    "b = a[:2, 1:3]\n",
    "print(b)\n",
    "print\n",
    "\n",
    "# A slice pf an array is a view into the same data,\n",
    "# so modifying it will modify the original data.\n",
    "print a[0, 1]  # Prints \"2\"\n",
    "b[0, 0] = 77   # b[0, 0] is the same piece of data as a[0, 1]\n",
    "print a[0, 1]"
   ]
  },
  {
   "cell_type": "markdown",
   "metadata": {},
   "source": [
    "You can also mix integer indexing with slice indexing. However, doing so will yield an array of lower ran than the original array."
   ]
  },
  {
   "cell_type": "code",
   "execution_count": 34,
   "metadata": {
    "collapsed": false
   },
   "outputs": [
    {
     "name": "stdout",
     "output_type": "stream",
     "text": [
      "[5 6 7 8] (4,)\n",
      "[[5 6 7 8]] (1, 4)\n",
      "\n",
      "[ 2  6 10] (3,)\n",
      "[[ 2]\n",
      " [ 6]\n",
      " [10]] (3, 1)\n"
     ]
    }
   ],
   "source": [
    "import numpy as np\n",
    "\n",
    "# Create the following rank 2 array with shape (3, 4)\n",
    "# [[1  2  3  4]\n",
    "#  [4  5  6  8]\n",
    "#  [9 10 11 12]]\n",
    "a = np.array([[1, 2, 3, 4], [5, 6, 7, 8], [9, 10, 11, 12]])\n",
    "\n",
    "# Two ways of accessing the data in the middle row of the array.\n",
    "# Mixing integer indexing with slices yields an array of lower rank.\n",
    "# while using only slices yields an array of the same rank as the original array.\n",
    "row_r1 = a[1, :]   # Rank 1 view of the second row.\n",
    "row_r2 = a[1:2, :] # Rank 2 view of the second row.\n",
    "print row_r1, row_r1.shape  # Prints \"[5 6 7 8] (4,)\"\n",
    "print row_r2, row_r2.shape  # Prints \"[[5 6 7 8]] (1, 4)\"\n",
    "print\n",
    "\n",
    "# The same distinction is valid when accessing columns of an aaray.\n",
    "col_r1 = a[:, 1]\n",
    "col_r2 = a[:, 1:2]\n",
    "print col_r1, col_r1.shape\n",
    "print col_r2, col_r2.shape"
   ]
  },
  {
   "cell_type": "markdown",
   "metadata": {},
   "source": [
    "* Integer array indexing: When you index into numpy arrays using slicing, the resulti g array view will always be a subarray of the original array. In contrast, integer array indexing allows you to construct arbitrary arrays using the data from another array."
   ]
  },
  {
   "cell_type": "code",
   "execution_count": 38,
   "metadata": {
    "collapsed": false
   },
   "outputs": [
    {
     "name": "stdout",
     "output_type": "stream",
     "text": [
      "[1 4 5]\n",
      "[1 4 5]\n"
     ]
    }
   ],
   "source": [
    "import numpy as np\n",
    "\n",
    "# Create an array.\n",
    "a = np.array([[1, 2], [3, 4], [5, 6]])\n",
    "\n",
    "# An example of integer array indexing.\n",
    "# The return array will have shape (3,)\n",
    "print a[[0, 1, 2], [0, 1, 0]]\n",
    "\n",
    "# The aboce example of integer array indexg is equivalent to this:\n",
    "print np.array([a[0, 0], a[1, 1], a[2, 0]])"
   ]
  },
  {
   "cell_type": "markdown",
   "metadata": {},
   "source": [
    "One useful trick with integer array indexing is selecting or mutating one element from each row of a matrix:"
   ]
  },
  {
   "cell_type": "code",
   "execution_count": 45,
   "metadata": {
    "collapsed": false
   },
   "outputs": [
    {
     "name": "stdout",
     "output_type": "stream",
     "text": [
      "[[ 1  2  3]\n",
      " [ 4  5  6]\n",
      " [ 7  8  9]\n",
      " [10 11 12]]\n",
      "\n",
      "[ 1  6  7 11]\n",
      "\n",
      "[[11  2  3]\n",
      " [ 4  5 16]\n",
      " [17  8  9]\n",
      " [10 21 12]]\n"
     ]
    }
   ],
   "source": [
    "import numpy as np\n",
    "\n",
    "# Create a new array from which we will select elements.\n",
    "a = np.array([[1, 2, 3], [4, 5, 6], [7, 8, 9], [10, 11, 12]])\n",
    "print a\n",
    "print\n",
    "\n",
    "# Create an array of indices.\n",
    "b = np.array([0, 2, 0, 1])\n",
    "\n",
    "# Select one element from each row of `a` using the indices of `b`.\n",
    "print a[np.arange(4), b] # Prints \"[1, 6, 7, 11]\"\n",
    "print\n",
    "\n",
    "# Mutate one element from each row of `a` using the indices in `b`.\n",
    "a[np.arange(4), b] += 10\n",
    "print a"
   ]
  },
  {
   "cell_type": "markdown",
   "metadata": {},
   "source": [
    "* Boolean array indexing: Boolean array indexing lets you pick out arbitrary elements of an array. Frequently this type of indexing is used to select elements of an array that satisfy some condition."
   ]
  },
  {
   "cell_type": "code",
   "execution_count": 49,
   "metadata": {
    "collapsed": false
   },
   "outputs": [
    {
     "name": "stdout",
     "output_type": "stream",
     "text": [
      "[[1 2]\n",
      " [3 4]\n",
      " [5 6]]\n",
      "\n",
      "[[False False]\n",
      " [ True  True]\n",
      " [ True  True]]\n",
      "\n",
      "[3 4 5 6]\n"
     ]
    }
   ],
   "source": [
    "import numpy as np\n",
    "\n",
    "# Create an array\n",
    "a = np.array([[1, 2], [3, 4], [5, 6]])\n",
    "print a\n",
    "print\n",
    "\n",
    "# Finds the elements of `a` that are bigger than 2.\n",
    "# This returns a numpy array of Boolean of the\n",
    "# same shape as `a`, where each slot of `bool_idx`\n",
    "# tells whether that element of `a` is > 2.\n",
    "bool_idx = (a > 2)\n",
    "print bool_idx\n",
    "print\n",
    "\n",
    "# Now we use boolean array indexing to construct a rank 1 array\n",
    "# consisting of the elements of `a` corresponding to the True values\n",
    "# of `bool_idx`.\n",
    "print a[bool_idx]"
   ]
  },
  {
   "cell_type": "markdown",
   "metadata": {},
   "source": [
    "### Datatypes\n",
    "Every `NumPy` array is a grid of elements of the same type. `NumPy` provides a large set of numeric datatypes that you can use to construct arrays. `NumPy` tries to guess a datatype when you create an array, but functions that construct arrays usually also include an optional argument o explicitly specify the data type."
   ]
  },
  {
   "cell_type": "code",
   "execution_count": 51,
   "metadata": {
    "collapsed": false
   },
   "outputs": [
    {
     "name": "stdout",
     "output_type": "stream",
     "text": [
      "int64\n",
      "float64\n",
      "int64\n"
     ]
    }
   ],
   "source": [
    "import numpy as np\n",
    "\n",
    "x = np.array([1, 2])  # Lets NumPy choose the datatype\n",
    "print x.dtype         # Pritns \"int64\"\n",
    "\n",
    "y = np.array([1.0, 2.0])   # Lets NumPy choose the datatype\n",
    "print y.dtype                          # Pritns \"float64\"\n",
    "\n",
    "z = np.array([1, 2], dtype=np.int64)   # Force a particular datatype\n",
    "print z.dtype"
   ]
  },
  {
   "cell_type": "markdown",
   "metadata": {},
   "source": [
    "### Array Math\n",
    "Basic mathematical functions operate elementwise on arrays, and are available both as operator overload and as function in the `NumPt` module."
   ]
  },
  {
   "cell_type": "code",
   "execution_count": 55,
   "metadata": {
    "collapsed": false
   },
   "outputs": [
    {
     "name": "stdout",
     "output_type": "stream",
     "text": [
      "[[  6.   8.]\n",
      " [ 10.  12.]]\n",
      "[[  6.   8.]\n",
      " [ 10.  12.]]\n",
      "\n",
      "[[-4. -4.]\n",
      " [-4. -4.]]\n",
      "[[-4. -4.]\n",
      " [-4. -4.]]\n",
      "\n",
      "[[  5.  12.]\n",
      " [ 21.  32.]]\n",
      "[[  5.  12.]\n",
      " [ 21.  32.]]\n",
      "\n",
      "[[ 0.2         0.33333333]\n",
      " [ 0.42857143  0.5       ]]\n",
      "[[ 0.2         0.33333333]\n",
      " [ 0.42857143  0.5       ]]\n",
      "\n",
      "[[ 1.          1.41421356]\n",
      " [ 1.73205081  2.        ]]\n"
     ]
    }
   ],
   "source": [
    "import numpy as np\n",
    "\n",
    "x = np.array([[1, 2], [3, 4]], dtype=np.float64)\n",
    "y = np.array([[5, 6], [7, 8]], dtype=np.float64)\n",
    "# Elementwise sum\n",
    "print x + y\n",
    "print np.add(x, y)\n",
    "print\n",
    "\n",
    "# Elementwise difference\n",
    "print x - y\n",
    "print np.subtract(x, y)\n",
    "print\n",
    "\n",
    "# Elementwise product\n",
    "print x * y\n",
    "print np.multiply(x, y)\n",
    "print\n",
    "\n",
    "# Elementwise division\n",
    "print x / y\n",
    "print np.divide(x, y)\n",
    "print\n",
    "\n",
    "# Elementwise square root\n",
    "print np.sqrt(x)\n",
    "\n",
    "\n",
    "\n"
   ]
  },
  {
   "cell_type": "markdown",
   "metadata": {},
   "source": [
    "Note that the `*` operator is elementwise multiplication, not matrix multiplication. We instead use the `dot` function to compute inner products of vectors, to multiply a vector by a matrix, and to multiply matrices. `dot` is available both as a function in the `NumPy` module and as an instance of array objects:"
   ]
  },
  {
   "cell_type": "code",
   "execution_count": 57,
   "metadata": {
    "collapsed": false
   },
   "outputs": [
    {
     "name": "stdout",
     "output_type": "stream",
     "text": [
      "219\n",
      "219\n",
      "\n",
      "[29 67]\n",
      "[29 67]\n",
      "\n",
      "[[19 22]\n",
      " [43 50]]\n",
      "[[19 22]\n",
      " [43 50]]\n"
     ]
    }
   ],
   "source": [
    "import numpy as np\n",
    "\n",
    "x = np.array([[1, 2], [3, 4]])\n",
    "y = np.array([[5, 6], [7, 8]])\n",
    "\n",
    "v = np.array([9, 10])\n",
    "w = np.array([11, 12])\n",
    "\n",
    "# Inner product of vectors\n",
    "print v.dot(w)\n",
    "print np.dot(v, w)\n",
    "print\n",
    "\n",
    "# Matrix/vector product\n",
    "print x.dot(v)\n",
    "print np.dot(x, v)\n",
    "print\n",
    "\n",
    "# Matrix/matrix product\n",
    "print x.dot(y)\n",
    "print np.dot(x, y)"
   ]
  },
  {
   "cell_type": "markdown",
   "metadata": {},
   "source": [
    "`NumPy` provides manu useful functions for performing computations on arrays. Following only the `sum` and `mean` example. Find more in the [documentation](http://docs.scipy.org/doc/numpy/reference/routines.math.html)."
   ]
  },
  {
   "cell_type": "code",
   "execution_count": 60,
   "metadata": {
    "collapsed": false
   },
   "outputs": [
    {
     "name": "stdout",
     "output_type": "stream",
     "text": [
      "10\n",
      "[4 6]\n",
      "[3 7]\n",
      "\n",
      "2.5\n",
      "[ 2.  3.]\n",
      "[ 1.5  3.5]\n"
     ]
    }
   ],
   "source": [
    "import numpy as np\n",
    "\n",
    "x = np.array([[1, 2], [3, 4]])\n",
    "\n",
    "print np.sum(x)         # Compute the sum of all elements\n",
    "print np.sum(x, axis=0) # Compute the sum of each column\n",
    "print np.sum(x, axis=1) # Compute the sum of each row\n",
    "print\n",
    "print np.mean(x)         # Compute the mean over all elements\n",
    "print np.mean(x, axis=0) # Compute the mean over the columns\n",
    "print np.mean(x, axis=1) # Compute the mean over the rows"
   ]
  },
  {
   "cell_type": "markdown",
   "metadata": {},
   "source": [
    "We frequently need to reshape or otherwise manipulate data in arrays. The simples example of this type of operation is transposing a matrix, as the following example. For array manipulation routines can be seen in the [documentation](http://docs.scipy.org/doc/numpy/reference/routines.array-manipulation.html)."
   ]
  },
  {
   "cell_type": "code",
   "execution_count": 70,
   "metadata": {
    "collapsed": false
   },
   "outputs": [
    {
     "name": "stdout",
     "output_type": "stream",
     "text": [
      "[[1 2]\n",
      " [3 4]]\n",
      "\n",
      "[[1 3]\n",
      " [2 4]]\n",
      "[1 2 3]\n",
      "\n",
      "[1 2 3]\n",
      "\n",
      "[[1 2 3 4]]\n",
      "\n",
      "[[1 2 3 4 1 2 3 4]]\n",
      "\n",
      "[[1 2 3 4]\n",
      " [1 2 3 4]]\n"
     ]
    }
   ],
   "source": [
    "import numpy as np\n",
    "\n",
    "x = np.array([[1, 2], [3, 4]])\n",
    "print x\n",
    "print\n",
    "print x.T\n",
    "\n",
    "# Note: taking the transpose of a rank 1 array does nothing.\n",
    "v = np.array([1, 2, 3])\n",
    "print v\n",
    "print\n",
    "print v.T\n",
    "print \n",
    "\n",
    "# You can reshape the array, but should keep the right number of elements.\n",
    "r = x.reshape([1, 4])\n",
    "print r\n",
    "print\n",
    "\n",
    "# Can stack arrays horizontally or vertically (it takes a tuple as parameter)\n",
    "print np.hstack((r, r))\n",
    "print\n",
    "print np.vstack((r, r))"
   ]
  },
  {
   "cell_type": "markdown",
   "metadata": {},
   "source": [
    "### Broadcasting\n",
    "Broadcasting is a powerful mechanism that allows `NumPy` to work with arrays of different shapes when performing arithmetic operations. Frequently we have a smaller array and a larger array, and we want to use the smaller array multiple times to perform some operation on the larger array.\n",
    "\n",
    "For example, suppose that we want to add a constant vector to each tow of a matrix. One way of doing it is:"
   ]
  },
  {
   "cell_type": "code",
   "execution_count": 72,
   "metadata": {
    "collapsed": false
   },
   "outputs": [
    {
     "name": "stdout",
     "output_type": "stream",
     "text": [
      "[[ 2  2  4]\n",
      " [ 5  5  7]\n",
      " [ 8  8 10]\n",
      " [11 11 13]]\n"
     ]
    }
   ],
   "source": [
    "import numpy as np\n",
    "\n",
    "# We will add the vector `v` to each row of the matrix `x`,\n",
    "# storing the result in the matrix `y`.\n",
    "x = np.array([[1, 2, 3], [4, 5, 6], [7, 8, 9], [10, 11, 12]])\n",
    "v = np.array([1, 0, 1])\n",
    "y = np.empty_like(x)  # Create an empty matrix with the same shape as `x``\n",
    "\n",
    "# Add the vector `v` to each tow of the matrix `x` with an explicit loop:\n",
    "for i in range(x.shape[0]):\n",
    "    y[i, :] = x[i, :] + v\n",
    "\n",
    "print y"
   ]
  },
  {
   "cell_type": "markdown",
   "metadata": {},
   "source": [
    "This works fine, but when the matrix `x` is very large, computing an explicit loop in Python could be slow. Note that adding the vector `v` to each row of the matrix `x` is equivalent to forming a matrix `vv` by stacking multiple copies of `v`vertically, then performing elementwise summation of `x` and `vv`. We couçd implement this approach like this:"
   ]
  },
  {
   "cell_type": "code",
   "execution_count": 73,
   "metadata": {
    "collapsed": false
   },
   "outputs": [
    {
     "name": "stdout",
     "output_type": "stream",
     "text": [
      "[[ 2  2  4]\n",
      " [ 5  5  7]\n",
      " [ 8  8 10]\n",
      " [11 11 13]]\n"
     ]
    }
   ],
   "source": [
    "import numpy as np\n",
    "\n",
    "# We will add the vector `v` to each row of the matrix `x`,\n",
    "# storing the result in the matrix `y`.\n",
    "x = np.array([[1, 2, 3], [4, 5, 6], [7, 8, 9], [10, 11, 12]])\n",
    "v = np.array([1, 0, 1])\n",
    "\n",
    "# We stack 3 copies of `v` on top of each other\n",
    "vv = np.tile(v, (4, 1))\n",
    "\n",
    "# Add `x` and `vv` elementwise\n",
    "y = x + vv\n",
    "print y"
   ]
  },
  {
   "cell_type": "markdown",
   "metadata": {},
   "source": [
    "`NumPy` broadcasting allows us to perform this computation without actually creating multiple copies of `v`:"
   ]
  },
  {
   "cell_type": "code",
   "execution_count": 74,
   "metadata": {
    "collapsed": false
   },
   "outputs": [
    {
     "name": "stdout",
     "output_type": "stream",
     "text": [
      "[[ 2  2  4]\n",
      " [ 5  5  7]\n",
      " [ 8  8 10]\n",
      " [11 11 13]]\n"
     ]
    }
   ],
   "source": [
    "import numpy as np\n",
    "\n",
    "# We will add the vector `v` to each row of the matrix `x`,\n",
    "# storing the result in the matrix `y`.\n",
    "x = np.array([[1, 2, 3], [4, 5, 6], [7, 8, 9], [10, 11, 12]])\n",
    "v = np.array([1, 0, 1])\n",
    "\n",
    "# Add `v` to each row of `x` using broadcasting\n",
    "y = x + v\n",
    "print y"
   ]
  },
  {
   "cell_type": "markdown",
   "metadata": {},
   "source": [
    "Broadcasting two array together follows these rules:\n",
    "    1. If the arrays do not have the same rank, prepend the shape of the lower rank array with 1s until both shapes have the sample length.\n",
    "    2. The two arrays are said to be compatible in a dimension if they have the same size in the dimension, or if one of the arrays has size 1 in the dimension.\n",
    "    3. The arrays ca be broadcast together if they are compatible in all dimensions.\n",
    "    4. After broadcasting, each array beahves as if it has shape equal to the elementwise maximum of shapes of the two input arrays.\n",
    "    5. In any dimension where one array has size 1 and the other array has size greater than 1, the first array behaves as if it were copied along that dimension."
   ]
  },
  {
   "cell_type": "markdown",
   "metadata": {
    "collapsed": true
   },
   "source": [
    "## SciPy\n",
    "`NumPy` provides a high-performance multidimensional array and basic tools to compute with and manipulate these arrays. `SciPy` builds on this, and provides a large number of functions that operate on `NumPy` arrays and are useful for different types of scientific and engineering applications. The [full documentation is here](http://docs.scipy.org/doc/scipy/reference/index.html)."
   ]
  },
  {
   "cell_type": "markdown",
   "metadata": {},
   "source": [
    "### Image Operations\n",
    "`SciPy` provides some basic functions to work with images. For example, it has functions to read images from disk into `NumPy` arrays, to write arrays to disk images, and to resize images."
   ]
  },
  {
   "cell_type": "code",
   "execution_count": 7,
   "metadata": {
    "collapsed": false
   },
   "outputs": [
    {
     "name": "stdout",
     "output_type": "stream",
     "text": [
      "uint8 (475, 632, 3)\n"
     ]
    }
   ],
   "source": [
    "from scipy.misc import imread, imsave, imresize\n",
    "\n",
    "# Read an JPEG image into a NumPy array\n",
    "img = imread('assets/cat.jpg')\n",
    "print img.dtype, img.shape\n",
    "\n",
    "# We can tint the image by scaling each of the color channels\n",
    "# by a different scalar constant. The image has shape (400, 248, 3)\n",
    "# we multiply it by the array [1, 0.95, 0.9] of shape (3,)\n",
    "# NumPy broadcasting means that this leaves the red channel unchanged\n",
    "# and multiply the green and blue channels by 0.95 and 0.9\n",
    "# respectively.\n",
    "img_tinted = img * [1, 0.95, 0.9]\n",
    "\n",
    "# Resize the tinted image to be 300 x 300 pixels.\n",
    "img_tinted = imresize(img_tinted, (300, 300))\n",
    "\n",
    "# Write the tinted image back to disk.\n",
    "imsave('assets/cat_tinted.jpg', img_tinted)"
   ]
  },
  {
   "cell_type": "markdown",
   "metadata": {
    "collapsed": true
   },
   "source": [
    "### Distance between Points\n",
    "`SciPy` defines some useful functions for computing distances between sets of points.\n",
    "\n",
    "The functions `scipy.spatial.distance.pdist` computes the distance between all pairs of points in a given set:"
   ]
  },
  {
   "cell_type": "code",
   "execution_count": 9,
   "metadata": {
    "collapsed": false
   },
   "outputs": [
    {
     "name": "stdout",
     "output_type": "stream",
     "text": [
      "[[0 1]\n",
      " [1 0]\n",
      " [2 0]]\n",
      "\n",
      "[[ 0.          1.41421356  2.23606798]\n",
      " [ 1.41421356  0.          1.        ]\n",
      " [ 2.23606798  1.          0.        ]]\n"
     ]
    }
   ],
   "source": [
    "import numpy as np\n",
    "from scipy.spatial.distance import pdist, squareform\n",
    "\n",
    "# Create the following array where each row is a point in 2D space\n",
    "# [[0 1]\n",
    "#  [1 0]\n",
    "#  [2 0]]\n",
    "x = np.array([[0, 1], [1, 0], [2, 0]])\n",
    "print x\n",
    "print\n",
    "\n",
    "# Compute the Euclidean distance between all rows of `x`.\n",
    "# d[i, j] is the Euclidean distance between x[i, :] and x[j, :].\n",
    "d = squareform(pdist(x, 'euclidean'))\n",
    "print d"
   ]
  },
  {
   "cell_type": "markdown",
   "metadata": {},
   "source": [
    "## Matplotlib\n",
    "`Matplotlib` is a plotting library. Here is a brief introduction to the `matplotlib.pyplot` module, which provides a plotting system similar to that of `MATLAB`.\n",
    "\n",
    "### Plotting\n",
    "The most important function in `matplotlib` is `plot`, which allows you to plot 2D data."
   ]
  },
  {
   "cell_type": "code",
   "execution_count": 11,
   "metadata": {
    "collapsed": false
   },
   "outputs": [
    {
     "data": {
      "image/png": "[encoded data removed]",
      "text/plain": [
       "<matplotlib.figure.Figure at 0x1192fb650>"
      ]
     },
     "metadata": {},
     "output_type": "display_data"
    }
   ],
   "source": [
    "%matplotlib inline\n",
    "import numpy as np\n",
    "import matplotlib.pyplot as plt\n",
    "\n",
    "# Compute the `x` and `y` coordinates for points on a sine curve\n",
    "x = np.arange(0, 3 * np.pi, 0.1)\n",
    "y = np.sin(x)\n",
    "\n",
    "# P,lot the points using matplotlib\n",
    "plt.plot(x, y)\n",
    "plt.show() # You must call plt.show() to make the graphics appear."
   ]
  },
  {
   "cell_type": "markdown",
   "metadata": {},
   "source": [
    "With just a little bit of extra work we can easily plot multiple lines at onde, and add a title, legend and axis labels:"
   ]
  },
  {
   "cell_type": "code",
   "execution_count": 1,
   "metadata": {
    "collapsed": false
   },
   "outputs": [
    {
     "data": {
      "image/png": "[encoded data removed]",
      "text/plain": [
       "<matplotlib.figure.Figure at 0x10a754d50>"
      ]
     },
     "metadata": {},
     "output_type": "display_data"
    }
   ],
   "source": [
    "%matplotlib inline\n",
    "import numpy as np\n",
    "import matplotlib.pyplot as plt\n",
    "\n",
    "# Compute the `x` and `y` coordinates for points on sine and cosine curves\n",
    "x = np.arange(0, 3 * np.pi, 0.1)\n",
    "y_sin = np.sin(x)\n",
    "y_cos = np.cos(x)\n",
    "\n",
    "# Plot the points using matplotlib\n",
    "plt.plot(x, y_sin)\n",
    "plt.plot(x, y_cos)\n",
    "plt.xlabel('x axis label')\n",
    "plt.ylabel('y axis label')\n",
    "plt.title('Sine and Cosine')\n",
    "plt.legend(['Sine', 'Cosine'])\n",
    "plt.show()"
   ]
  },
  {
   "cell_type": "markdown",
   "metadata": {},
   "source": [
    "### Subplots\n",
    "You can plot different things in the same figure using the `subplot` function:"
   ]
  },
  {
   "cell_type": "code",
   "execution_count": 2,
   "metadata": {
    "collapsed": false
   },
   "outputs": [
    {
     "data": {
      "image/png": "[encoded data removed]",
      "text/plain": [
       "<matplotlib.figure.Figure at 0x10c75a510>"
      ]
     },
     "metadata": {},
     "output_type": "display_data"
    }
   ],
   "source": [
    "%matplotlib inline\n",
    "import numpy as np\n",
    "import matplotlib.pyplot as plt\n",
    "\n",
    "# Compute the `x` and `y`  coordinates for points on sine and cosine curves\n",
    "x = np.arange(0, 3 * np.pi, 0.1)\n",
    "y_sin = np.sin(x)\n",
    "y_cos = np.cos(x)\n",
    "\n",
    "# Set up a subplot grid that has height 2 and width 1,\n",
    "# and set the first such plot as active.\n",
    "plt.subplot(2, 1, 1)\n",
    "\n",
    "# Make the first plot.\n",
    "plt.plot(x, y_sin)\n",
    "plt.title('Sine')\n",
    "\n",
    "# Set the second subplot as active and make the second plot.\n",
    "plt.subplot(2, 1, 2)\n",
    "plt.plot(x, y_cos)\n",
    "plt.title('Cosine')\n",
    "\n",
    "# Show the figure.\n",
    "plt.show()"
   ]
  },
  {
   "cell_type": "markdown",
   "metadata": {},
   "source": [
    "### Images\n",
    "You can use `imshow` function to show images:"
   ]
  },
  {
   "cell_type": "code",
   "execution_count": 9,
   "metadata": {
    "collapsed": false
   },
   "outputs": [
    {
     "data": {
      "image/png": "[encoded data removed]",
      "text/plain": [
       "<matplotlib.figure.Figure at 0x10ee47250>"
      ]
     },
     "metadata": {},
     "output_type": "display_data"
    }
   ],
   "source": [
    "%matplotlib inline\n",
    "import numpy as np\n",
    "from scipy.misc import imread, imresize\n",
    "import matplotlib.pyplot as plt\n",
    "\n",
    "img = imread('assets/cat.jpg')\n",
    "img_tinted = img * [1, 0.8, 0.6]\n",
    "\n",
    "# Show the original image\n",
    "plt.subplot(1, 2, 1)\n",
    "plt.imshow(img)\n",
    "\n",
    "\n",
    "# Show the tinted image\n",
    "plt.subplot(1, 2, 2)\n",
    "# A slightly gotcha with imshow is that it might give strange results\n",
    "# if presented with data that is not uint8. To work around this,\n",
    "# we explicitly cast the image to uint8 before displaying it.\n",
    "plt.imshow(np.uint8(img_tinted))\n",
    "plt.show()"
   ]
  },
  {
   "cell_type": "code",
   "execution_count": null,
   "metadata": {
    "collapsed": true
   },
   "outputs": [],
   "source": []
  }
 ],
 "metadata": {
  "kernelspec": {
   "display_name": "Python 2",
   "language": "python",
   "name": "python2"
  },
  "language_info": {
   "codemirror_mode": {
    "name": "ipython",
    "version": 2
   },
   "file_extension": ".py",
   "mimetype": "text/x-python",
   "name": "python",
   "nbconvert_exporter": "python",
   "pygments_lexer": "ipython2",
   "version": "2.7.10"
  }
 },
 "nbformat": 4,
 "nbformat_minor": 0
}
